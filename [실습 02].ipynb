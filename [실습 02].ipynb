{
  "nbformat": 4,
  "nbformat_minor": 0,
  "metadata": {
    "colab": {
      "provenance": [],
      "include_colab_link": true
    },
    "kernelspec": {
      "name": "python3",
      "display_name": "Python 3"
    },
    "language_info": {
      "name": "python"
    }
  },
  "cells": [
    {
      "cell_type": "markdown",
      "metadata": {
        "id": "view-in-github",
        "colab_type": "text"
      },
      "source": [
        "<a href=\"https://colab.research.google.com/github/gaerimi/LA2/blob/main/%5B%EC%8B%A4%EC%8A%B5%2002%5D.ipynb\" target=\"_parent\"><img src=\"https://colab.research.google.com/assets/colab-badge.svg\" alt=\"Open In Colab\"/></a>"
      ]
    },
    {
      "cell_type": "markdown",
      "source": [
        "### 라이브러리 선언"
      ],
      "metadata": {
        "id": "VcKvO8KcJ9AJ"
      }
    },
    {
      "cell_type": "code",
      "source": [
        "import numpy as np\n",
        "import matplotlib.pyplot as plt\n",
        "from matplotlib.patches import Polygon\n",
        "\n",
        "INF = 1000  # 그림판 크기\n",
        "LEN = 100   # 처음 사각형의 크기"
      ],
      "metadata": {
        "id": "uwkBDldBERem"
      },
      "execution_count": 134,
      "outputs": []
    },
    {
      "cell_type": "markdown",
      "source": [
        "### 축 그리기 및 사각형 그리기"
      ],
      "metadata": {
        "id": "eSiS-XHya1FY"
      }
    },
    {
      "cell_type": "code",
      "source": [
        "def draw_axis(ax):\n",
        "  ax.axhline(0, color='black', alpha=0.3)  # x-axis line\n",
        "  ax.axvline(0, color='black', alpha=0.3)  # y-axis line\n",
        "  ax.set_xlim(-INF, INF)\n",
        "  ax.set_ylim(-INF, INF)\n",
        "  ax.set_aspect('equal')  # 정사각형 모양으로 backboard 그리기"
      ],
      "metadata": {
        "id": "_fc5wJBeKXDN"
      },
      "execution_count": 135,
      "outputs": []
    },
    {
      "cell_type": "code",
      "source": [
        "def draw_rectangle(ax, p1, p2, p3, p4):\n",
        "  my_polygon = Polygon([p1, p2, p3, p4])\n",
        "  ax.add_patch(my_polygon)"
      ],
      "metadata": {
        "id": "0XC7sFs9Hf3e"
      },
      "execution_count": 136,
      "outputs": []
    },
    {
      "cell_type": "markdown",
      "source": [
        "### 본론\n",
        "#### 1. 변환 구현\n",
        "* translate(p, dx, dy)\n",
        "* rotate(p, theta)  \n",
        "* scale(p, sx, sy)  \n",
        "* shear_x(p, sx)  \n",
        "* shear_y(p, sy)  \n",
        "* reflect_x(p)  \n",
        "* reflect_y(p)   \n",
        "* ..."
      ],
      "metadata": {
        "id": "6txnl6M2PeUz"
      }
    },
    {
      "cell_type": "code",
      "source": [
        "# 점 p를 x축 방향으로 dx만큼, y축 방향으로 dy만큼 이동시킨 점 q를 구할 것\n",
        "# q = T(dx, dy) p1\n",
        "def translate(p, dx, dy):\n",
        "  # 1. 동차좌표계 (homogeneous coordinate)으로 변환\n",
        "  hp = np.array([p[0], p[1], 1.0])\n",
        "\n",
        "  # 2. 이동 변환 행렬 생성\n",
        "  m = np.array([[1.0, 0.0, dx], [0.0, 1.0, dy], [0.0, 0.0, 1.0]])\n",
        "  \n",
        "  # 3. 행렬과 벡터의 곱\n",
        "  q = np.dot(m, hp)  # (3,3) x (3,1) -> (3,1)\n",
        "  #print(q)\n",
        "\n",
        "  # 4. 2차원 좌표계로 변환\n",
        "  q = np.array([q[0], q[1]])\n",
        "  return q"
      ],
      "metadata": {
        "id": "g1iKgeNoP-Bu"
      },
      "execution_count": 137,
      "outputs": []
    },
    {
      "cell_type": "code",
      "source": [
        "#점 p를 theta만큼 회전한 점 q\n",
        "#q = R(theta) p\n",
        "def rotate(p, theta):\n",
        "  #동차좌표계 변환\n",
        "  x = p[0]\n",
        "  y = p[1]\n",
        "  hp = np.array([x, y, 1.0])\n",
        "  #print(hp)\n",
        "\n",
        "  #회전 변환 행렬 \n",
        "  p = np.arctan2(y,x)\n",
        "  p = round(p, 2)\n",
        "  cost = round(np.cos(theta), 2)\n",
        "  sint = round(np.sin(theta), 2)\n",
        "\n",
        "  m = np.array([[cost, -sint, 0.0], [sint, cost, 0.0], [0.0, 0.0, 1.0]])\n",
        "  #print(m)\n",
        "  #행렬과 벡터의 곱\n",
        "  q = np.dot(m,hp)\n",
        "  q[0] = round(q[0], 2)\n",
        "  q[1] = round(q[1], 2)\n",
        "  #print(q)\n",
        "\n",
        "  #2차원 좌표계로 변환\n",
        "  q = np.array([q[0], q[1]])\n",
        "  return q\n"
      ],
      "metadata": {
        "id": "pqZ0D_DePLDj"
      },
      "execution_count": 138,
      "outputs": []
    },
    {
      "cell_type": "code",
      "source": [
        "#점 p를 x에 대하여 sx배, y에 대하여 sy배 한 점 q\n",
        "#q = S(sx, sy) p\n",
        "def scale(p, sx, sy):\n",
        "  #동차좌표계 변환\n",
        "  hp = np.array([p[0], p[1], 1.0])\n",
        "\n",
        "  #크기 변환 행렬\n",
        "  m = np.array([[sx, 0.0, 0.0], [0.0, sy, 0.0], [0.0, 0.0, 1.0]])\n",
        "\n",
        "  #행렬과 벡터의 곱\n",
        "  q = np.dot(m, hp)\n",
        "  #print(q)\n",
        "\n",
        "  #2차원 좌표계로 변환\n",
        "  q = np.array([q[0], q[1]])\n",
        "  return q\n"
      ],
      "metadata": {
        "id": "FzAS_jLZXtv_"
      },
      "execution_count": 139,
      "outputs": []
    },
    {
      "cell_type": "code",
      "source": [
        "#점 p를 x축에 대해 sx만큼 기울기 변환\n",
        "#q = Sh_x(sx) p\n",
        "def shear_x(p, sx):\n",
        "  #동차좌표계 변환\n",
        "  hp = np.array([p[0], p[1], 1.0])\n",
        "\n",
        "  #크기 변환 행렬\n",
        "  m = np.array([[1.0, sx, 0.0], [0.0, 1.0, 0.0], [0.0, 0.0, 1.0]])\n",
        "\n",
        "  #행렬과 벡터의 곱\n",
        "  q = np.dot(m,hp)\n",
        "  #print(q)\n",
        "\n",
        "  #2차원 좌표계로 변환\n",
        "  q = np.array([q[0], q[1]])\n",
        "  return q"
      ],
      "metadata": {
        "id": "Zzg8PUWXHDJt"
      },
      "execution_count": 140,
      "outputs": []
    },
    {
      "cell_type": "code",
      "source": [
        "#점 p를 y축에 대해 sy만큼 기울기 변환\n",
        "#q = Sh_y(sy) p\n",
        "def shear_y(p, sy):\n",
        "  #동차좌표계 변환\n",
        "  hp = np.array([p[0], p[1], 1.0])\n",
        "\n",
        "  #크기 변환 행렬\n",
        "  m = np.array([[1.0, 0.0, 0.0], [sy, 1.0, 0.0], [0.0, 0.0, 1.0]])\n",
        "\n",
        "  #행렬과 벡터의 곱\n",
        "  q = np.dot(m,hp)\n",
        "  #print(q)\n",
        "\n",
        "  #2차원 좌표계로 변환\n",
        "  q = np.array([q[0], q[1]])\n",
        "  return q"
      ],
      "metadata": {
        "id": "t9YD-O55IWDq"
      },
      "execution_count": 141,
      "outputs": []
    },
    {
      "cell_type": "code",
      "source": [
        "#점 p를 x축에 대해 반전\n",
        "#q = Rf_x p\n",
        "def reflect_x(p):\n",
        "  #동차좌표계 변환\n",
        "  hp = np.array([p[0], p[1], 1.0])\n",
        "\n",
        "  #크기 변환 행렬\n",
        "  m = np.array([[1.0, 0.0, 0.0], [0.0, -1.0, 0.0], [0.0, 0.0, 1.0]])\n",
        "\n",
        "  #행렬과 벡터의 곱\n",
        "  q = np.dot(m,hp)\n",
        "\n",
        "  #2차원 좌표계로 변환\n",
        "  q = np.array([q[0], q[1]])\n",
        "  return q"
      ],
      "metadata": {
        "id": "w0qcMIdAIlrI"
      },
      "execution_count": 142,
      "outputs": []
    },
    {
      "cell_type": "code",
      "source": [
        "#점 p를 y축에 대해 반전\n",
        "#q = Rf_y p\n",
        "def reflect_y(p):\n",
        "  #동차좌표계 변환\n",
        "  hp = np.array([p[0], p[1], 1.0])\n",
        "\n",
        "  #크기 변환 행렬\n",
        "  m = np.array([[-1.0, 0.0, 0.0], [0.0, 1.0, 0.0], [0.0, 0.0, 1.0]])\n",
        "\n",
        "  #행렬과 벡터의 곱\n",
        "  q = np.dot(m,hp)\n",
        "\n",
        "  #2차원 좌표계로 변환\n",
        "  q = np.array([q[0], q[1]])\n",
        "  return q"
      ],
      "metadata": {
        "id": "S-iGSk6xJXf-"
      },
      "execution_count": 143,
      "outputs": []
    },
    {
      "cell_type": "code",
      "source": [
        "#점 p를 원점에 대해 반전\n",
        "#q = Rf_0 p\n",
        "def reflect_0(p):\n",
        "  #동차좌표계 변환\n",
        "  hp = np.array([p[0], p[1], 1.0])\n",
        "\n",
        "  #크기 변환 행렬\n",
        "  m = np.array([[-1.0, 0.0, 0.0], [0.0, -1.0, 0.0], [0.0, 0.0, 1.0]])\n",
        "\n",
        "  #행렬과 벡터의 곱\n",
        "  q = np.dot(m,hp)\n",
        "\n",
        "  #2차원 좌표계로 변환\n",
        "  q = np.array([q[0], q[1]])\n",
        "  return q"
      ],
      "metadata": {
        "id": "6wEHpqP7JgRk"
      },
      "execution_count": 144,
      "outputs": []
    },
    {
      "cell_type": "code",
      "source": [
        "#점 p를 y=x에 대해 반전\n",
        "#q = Rf_y=x p\n",
        "def reflect_yx(p):\n",
        "  #동차좌표계 변환\n",
        "  hp = np.array([p[0], p[1], 1.0])\n",
        "\n",
        "  #크기 변환 행렬\n",
        "  m = np.array([[0.0, 1.0, 0.0], [1.0, 0.0, 0.0], [0.0, 0.0, 1.0]])\n",
        "\n",
        "  #행렬과 벡터의 곱\n",
        "  q = np.dot(m,hp)\n",
        "\n",
        "  #2차원 좌표계로 변환\n",
        "  q = np.array([q[0], q[1]])\n",
        "  return q"
      ],
      "metadata": {
        "id": "hk13sjb5J3Hq"
      },
      "execution_count": 145,
      "outputs": []
    },
    {
      "cell_type": "markdown",
      "source": [
        "#### 2. 파트 그리기\n",
        "* draw_cockpit(p1, p2, p3, p4)    # 중앙 조종석\n",
        "* draw_left_arm(p1, p2, p3, p4)   # 왼쪽 날개축\n",
        "* draw_left_wing(p1, p2, p3, p4)  # 왼쪽 날개\n",
        "* draw_right_arm(p1, p2, p3, p4)  # 오른쪽 날개축\n",
        "* draw_right_wing(p1, p2, p3, p4) # 오른쪽 날개"
      ],
      "metadata": {
        "id": "E_jHSezpTC-9"
      }
    },
    {
      "cell_type": "code",
      "source": [
        "def draw_cockpit(ax, p1, p2, p3, p4):  # 중앙 조종석\n",
        "  # 1. 사각형을 원점으로 이동 변환: T(-LEN/2, -LEN/2)\n",
        "  # q = T(-LEN/2, -LEN/2)p\n",
        "  q1 = translate(p1, -LEN/2, -LEN/2)\n",
        "  q2 = translate(p2, -LEN/2, -LEN/2)\n",
        "  q3 = translate(p3, -LEN/2, -LEN/2)\n",
        "  q4 = translate(p4, -LEN/2, -LEN/2)\n",
        "\n",
        "  # 2. 크기 변환: S(5, 5)\n",
        "  s = 5\n",
        "  q1 = scale(q1, s, s)\n",
        "  q2 = scale(q2, s, s)\n",
        "  q3 = scale(q3, s, s)\n",
        "  q4 = scale(q4, s, s)\n",
        "\n",
        "  # 3. 회전 변환: R(pi/4)\n",
        "  q1 = rotate(q1, 3.14/4.0)\n",
        "  q2 = rotate(q2, 3.14/4.0)\n",
        "  q3 = rotate(q3, 3.14/4.0)\n",
        "  q4 = rotate(q4, 3.14/4.0)\n",
        "  \n",
        "\n",
        "  # 4. polygon 그리기 \n",
        "  draw_rectangle(ax, q1, q2, q3, q4)"
      ],
      "metadata": {
        "id": "6C7a4CH4HSj0"
      },
      "execution_count": 146,
      "outputs": []
    },
    {
      "cell_type": "code",
      "source": [
        "def draw_left_arm(ax, p1, p2, p3, p4):  #왼쪽 날개축\n",
        "  # 1. 사각형 이동 변환\n",
        "  q1 = translate(p1, 0, LEN)\n",
        "  q2 = translate(p2, 0, LEN)\n",
        "  q3 = translate(p3, 0, LEN)\n",
        "  q4 = translate(p4, 0, LEN)\n",
        "  \n",
        "  # 2. 크기 변환 S(8,1)\n",
        "  s = 8\n",
        "  q1 = scale(q1, s, 1)\n",
        "  q2 = scale(q2, s, 1)\n",
        "  q3 = scale(q3, s, 1)\n",
        "  q4 = scale(q4, s, 1)\n",
        "\n",
        "  # 3. 기울기 변환: Sh(-1/8)\n",
        "  h = -1/5\n",
        "  q1 = shear_y(q1, h)\n",
        "  q2 = shear_y(q2, h)\n",
        "  q3 = shear_y(q3, h)\n",
        "  q4 = shear_y(q4, h)\n",
        "\n",
        "  # 4. 그리기\n",
        "  draw_rectangle(ax, q1, q2, q3, q4)\n",
        "\n",
        "  # 5. x축 대칭인 날개축 대칭 변환\n",
        "  q1 = reflect_x(q1)\n",
        "  q2 = reflect_x(q2)\n",
        "  q3 = reflect_x(q3)\n",
        "  q4 = reflect_x(q4)\n",
        "\n",
        "  # 6. 그리기\n",
        "  draw_rectangle(ax, q1, q2, q3, q4)"
      ],
      "metadata": {
        "id": "yjW2MtEhLwwp"
      },
      "execution_count": 147,
      "outputs": []
    },
    {
      "cell_type": "code",
      "source": [
        "def draw_left_wing(ax, p1, p2, p3, p4):   #왼쪽 날개\n",
        "  #이동 변환\n",
        "  q1 = translate(p1, 700, 0)\n",
        "  q2 = translate(p2, 700, 0)\n",
        "  q3 = translate(p3, 700, 0)\n",
        "  q4 = translate(p4, 700, 0)\n",
        "  \n",
        "  #크기 변환\n",
        "  s = 5\n",
        "  q1 = scale(q1, 1, s)\n",
        "  q2 = scale(q2, 1, s)\n",
        "  q3 = scale(q3, 1, s)\n",
        "  q4 = scale(q4, 1, s)\n",
        "  \n",
        "  #기울기 변환\n",
        "  h = 1/5\n",
        "  q3 = shear_y(q3, h)\n",
        "\n",
        "  #그리기\n",
        "  draw_rectangle(ax, q1, q2, q3, q4)\n",
        "\n",
        "  #대칭 변환\n",
        "  q1 = reflect_x(q1)\n",
        "  q2 = reflect_x(q2)\n",
        "  q3 = reflect_x(q3)\n",
        "  q4 = reflect_x(q4)\n",
        "\n",
        "  #그리기\n",
        "  draw_rectangle(ax, q1, q2, q3, q4)"
      ],
      "metadata": {
        "id": "srQFtIKWYoIa"
      },
      "execution_count": 148,
      "outputs": []
    },
    {
      "cell_type": "code",
      "source": [
        "def draw_right_arm(ax, p1, p2, p3, p4): #오른쪽 날개축\n",
        "  # 1. 사각형 이동 변환\n",
        "  q1 = translate(p1, -LEN, LEN)\n",
        "  q2 = translate(p2, -LEN, LEN)\n",
        "  q3 = translate(p3, -LEN, LEN)\n",
        "  q4 = translate(p4, -LEN, LEN)\n",
        "  \n",
        "  # 2. 크기 변환 S(8,1)\n",
        "  s = 8\n",
        "  q1 = scale(q1, s, 1)\n",
        "  q2 = scale(q2, s, 1)\n",
        "  q3 = scale(q3, s, 1)\n",
        "  q4 = scale(q4, s, 1)\n",
        "  \n",
        "  # 3. 기울기 변환: Sh(-1/8)\n",
        "  h = 1/5\n",
        "  q1 = shear_y(q1, h)\n",
        "  q2 = shear_y(q2, h)\n",
        "  q3 = shear_y(q3, h)\n",
        "  q4 = shear_y(q4, h)\n",
        "  \n",
        "  # 4. 그리기\n",
        "  draw_rectangle(ax, q1, q2, q3, q4)\n",
        "  \n",
        "  # 5. x축 대칭인 날개축 대칭 변환\n",
        "  q1 = reflect_x(q1)\n",
        "  q2 = reflect_x(q2)\n",
        "  q3 = reflect_x(q3)\n",
        "  q4 = reflect_x(q4)\n",
        "  \n",
        "  # 6. 그리기\n",
        "  draw_rectangle(ax, q1, q2, q3, q4)"
      ],
      "metadata": {
        "id": "ydbo9BNUecOi"
      },
      "execution_count": 149,
      "outputs": []
    },
    {
      "cell_type": "code",
      "source": [
        "def draw_right_wing(ax, p1, p2, p3, p4):  #오른쪽 날개 그리기\n",
        "  #이동 변환\n",
        "  q1 = translate(p1, -800, 0)\n",
        "  q2 = translate(p2, -800, 0)\n",
        "  q3 = translate(p3, -800, 0)\n",
        "  q4 = translate(p4, -800, 0)\n",
        "  \n",
        "  #크기 변환\n",
        "  s = 5\n",
        "  q1 = scale(q1, 1, s)\n",
        "  q2 = scale(q2, 1, s)\n",
        "  q3 = scale(q3, 1, s)\n",
        "  q4 = scale(q4, 1, s)\n",
        "  \n",
        "  #기울기 변환\n",
        "  h = -1/5\n",
        "  q4 = shear_y(q4, h)\n",
        "  \n",
        "  #그리기\n",
        "  draw_rectangle(ax, q1, q2, q3, q4)\n",
        "\n",
        "  #대칭 변환\n",
        "  q1 = reflect_x(q1)\n",
        "  q2 = reflect_x(q2)\n",
        "  q3 = reflect_x(q3)\n",
        "  q4 = reflect_x(q4)\n",
        "  \n",
        "  #그리기\n",
        "  draw_rectangle(ax, q1, q2, q3, q4)"
      ],
      "metadata": {
        "id": "YfbWa8BxfPRJ"
      },
      "execution_count": 150,
      "outputs": []
    },
    {
      "cell_type": "code",
      "execution_count": 151,
      "metadata": {
        "id": "hMI0xB0pDlnU"
      },
      "outputs": [],
      "source": [
        "# 2. tiefigher 그리기\n",
        "def draw_object(ax):\n",
        "  p1 = np.array([0, 0])\n",
        "  p2 = np.array([LEN, 0])\n",
        "  p3 = np.array([LEN, LEN])\n",
        "  p4 = np.array([0, LEN])\n",
        "\n",
        "  # 1. 중앙 조종석 그리기\n",
        "  draw_cockpit(ax, p1, p2, p3, p4)\n",
        "\n",
        "  # 2. 왼쪽 날개축 그리기\n",
        "  draw_left_arm(ax, p1, p2, p3, p4)\n",
        "\n",
        "  # 3. 왼쪽 날개 그리기\n",
        "  draw_left_wing(ax, p1, p2, p3, p4)\n",
        "\n",
        "  # 4. 오른쪽 날개축 그리기\n",
        "  draw_right_arm(ax, p1, p2, p3, p4)\n",
        "\n",
        "  # 5. 오른쪽 날개 그리기\n",
        "  draw_right_wing(ax, p1, p2, p3, p4)\n",
        "\n",
        "  \n"
      ]
    },
    {
      "cell_type": "markdown",
      "source": [
        "### 3. main"
      ],
      "metadata": {
        "id": "24hO1zQaHiFJ"
      }
    },
    {
      "cell_type": "code",
      "source": [
        "# 그림판 선언 및 크기 설정\n",
        "fig, ax = plt.subplots(figsize=(7,7))\n",
        "\n",
        "# 축 그리기\n",
        "draw_axis(ax)\n",
        "\n",
        "# 물체 그리기\n",
        "draw_object(ax)\n",
        "\n",
        "plt.show()"
      ],
      "metadata": {
        "colab": {
          "base_uri": "https://localhost:8080/",
          "height": 605
        },
        "id": "1Bdz-KxWLLHb",
        "outputId": "a73910c0-8e70-4e87-f654-f2569b3e8feb"
      },
      "execution_count": 152,
      "outputs": [
        {
          "output_type": "display_data",
          "data": {
            "text/plain": [
              "<Figure size 700x700 with 1 Axes>"
            ],
            "image/png": "[encoded data removed]"
          },
          "metadata": {}
        }
      ]
    }
  ]
}